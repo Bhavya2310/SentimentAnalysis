{
 "cells": [
  {
   "cell_type": "markdown",
   "id": "4e41fdcb",
   "metadata": {},
   "source": [
    "# Sentiment analysis on Book reviews"
   ]
  },
  {
   "cell_type": "markdown",
   "id": "c3f3e134",
   "metadata": {},
   "source": [
    "Dataset is collected from Kaggle https://www.kaggle.com/datasets/anshtanwar/top-200-trending-books-with-reviews/data"
   ]
  },
  {
   "cell_type": "code",
   "execution_count": 1,
   "id": "b40acc01",
   "metadata": {},
   "outputs": [],
   "source": [
    "import pandas as pd\n",
    "import numpy as np"
   ]
  },
  {
   "cell_type": "code",
   "execution_count": 2,
   "id": "d9ecaccc",
   "metadata": {},
   "outputs": [],
   "source": [
    "#reading the csv files\n",
    "books = pd.read_csv(\"Top-100 Trending Books.csv\")\n",
    "books_reviews = pd.read_csv(\"customer reviews.csv\")"
   ]
  },
  {
   "cell_type": "code",
   "execution_count": 3,
   "id": "8e0398c9",
   "metadata": {},
   "outputs": [
    {
     "name": "stdout",
     "output_type": "stream",
     "text": [
      "<class 'pandas.core.frame.DataFrame'>\n",
      "RangeIndex: 100 entries, 0 to 99\n",
      "Data columns (total 8 columns):\n",
      " #   Column               Non-Null Count  Dtype  \n",
      "---  ------               --------------  -----  \n",
      " 0   Rank                 100 non-null    int64  \n",
      " 1   book title           100 non-null    object \n",
      " 2   book price           100 non-null    float64\n",
      " 3   rating               97 non-null     float64\n",
      " 4   author               100 non-null    object \n",
      " 5   year of publication  100 non-null    int64  \n",
      " 6   genre                100 non-null    object \n",
      " 7   url                  100 non-null    object \n",
      "dtypes: float64(2), int64(2), object(4)\n",
      "memory usage: 6.4+ KB\n"
     ]
    }
   ],
   "source": [
    "books.info()"
   ]
  },
  {
   "cell_type": "code",
   "execution_count": 4,
   "id": "72a5ab2e",
   "metadata": {},
   "outputs": [
    {
     "name": "stdout",
     "output_type": "stream",
     "text": [
      "<class 'pandas.core.frame.DataFrame'>\n",
      "RangeIndex: 920 entries, 0 to 919\n",
      "Data columns (total 10 columns):\n",
      " #   Column              Non-Null Count  Dtype \n",
      "---  ------              --------------  ----- \n",
      " 0   Sno                 920 non-null    int64 \n",
      " 1   book name           920 non-null    object\n",
      " 2   review title        920 non-null    object\n",
      " 3   reviewer            920 non-null    object\n",
      " 4   reviewer rating     920 non-null    int64 \n",
      " 5   review description  920 non-null    object\n",
      " 6   is_verified         920 non-null    bool  \n",
      " 7   date                920 non-null    object\n",
      " 8   timestamp           920 non-null    object\n",
      " 9   ASIN                920 non-null    object\n",
      "dtypes: bool(1), int64(2), object(7)\n",
      "memory usage: 65.7+ KB\n"
     ]
    }
   ],
   "source": [
    "books_reviews.info()"
   ]
  },
  {
   "cell_type": "code",
   "execution_count": 5,
   "id": "8b12a40b",
   "metadata": {},
   "outputs": [
    {
     "name": "stdout",
     "output_type": "stream",
     "text": [
      "Sno                   0\n",
      "book name             0\n",
      "review title          0\n",
      "reviewer              0\n",
      "reviewer rating       0\n",
      "review description    0\n",
      "is_verified           0\n",
      "date                  0\n",
      "timestamp             0\n",
      "ASIN                  0\n",
      "dtype: int64\n"
     ]
    }
   ],
   "source": [
    "#checking for null values in the dataframe\n",
    "missing_values = books_reviews.isnull().sum()\n",
    "print(missing_values)"
   ]
  },
  {
   "cell_type": "code",
   "execution_count": 6,
   "id": "26e16275",
   "metadata": {},
   "outputs": [],
   "source": [
    "#import textblob library for sentiment analysis\n",
    "from textblob import TextBlob"
   ]
  },
  {
   "cell_type": "code",
   "execution_count": 7,
   "id": "59de0c6d",
   "metadata": {},
   "outputs": [
    {
     "name": "stdout",
     "output_type": "stream",
     "text": [
      "                                         text_combined  sentiment_score  \\\n",
      "0    Unbelievably impressive. Her torn life on pape...         0.220704   \n",
      "1    What a heartbreaking story \"There have been so...        -0.178852   \n",
      "2    Britney you are so invincible! You are an insp...         0.037864   \n",
      "3    Fast Read, Sad Story I have been a fan of Brit...         0.067659   \n",
      "4    Buy it, it’s worth the read! Whether or not yo...         0.160561   \n",
      "..                                                 ...              ...   \n",
      "915  The best child/grandmother book ever written T...         0.462245   \n",
      "916  Great book We get this book for all our grandc...         0.380000   \n",
      "917  Fun book, makes you laugh I saw a grandma read...         0.375000   \n",
      "918  Cutest beck ever!! I have ordered this book ov...         0.340000   \n",
      "919  Awesome Book This book was hysterical! My daug...         0.290625   \n",
      "\n",
      "    sentiment  \n",
      "0    positive  \n",
      "1    negative  \n",
      "2    positive  \n",
      "3    positive  \n",
      "4    positive  \n",
      "..        ...  \n",
      "915  positive  \n",
      "916  positive  \n",
      "917  positive  \n",
      "918  positive  \n",
      "919  positive  \n",
      "\n",
      "[920 rows x 3 columns]\n"
     ]
    }
   ],
   "source": [
    "#combine the review title and description for analyzing\n",
    "books_reviews['text_combined'] = books_reviews['review title'] + ' ' + books_reviews['review description']\n",
    "\n",
    "def analyze_sentiment(text):\n",
    "    blob = TextBlob(text)\n",
    "    return blob.sentiment.polarity #gives value between -1 to 1\n",
    "\n",
    "books_reviews['sentiment_score'] = books_reviews['text_combined'].apply(analyze_sentiment)\n",
    "\n",
    "#assigning labels based on sentiment score\n",
    "books_reviews['sentiment'] = books_reviews['sentiment_score'].apply(lambda score: 'positive' if score > 0 else 'negative' if score < 0 else 'neutral')\n",
    "\n",
    "print(books_reviews[['text_combined', 'sentiment_score', 'sentiment']])"
   ]
  },
  {
   "cell_type": "code",
   "execution_count": 8,
   "id": "186b1f0f",
   "metadata": {},
   "outputs": [
    {
     "name": "stdout",
     "output_type": "stream",
     "text": [
      "            book name  reviewer rating sentiment\n",
      "0     The Woman in Me                4  positive\n",
      "1     The Woman in Me                5  negative\n",
      "2     The Woman in Me                5  positive\n",
      "3     The Woman in Me                5  positive\n",
      "4     The Woman in Me                5  positive\n",
      "..                ...              ...       ...\n",
      "915  The Wonky Donkey                5  positive\n",
      "916  The Wonky Donkey                5  positive\n",
      "917  The Wonky Donkey                5  positive\n",
      "918  The Wonky Donkey                5  positive\n",
      "919  The Wonky Donkey                5  positive\n",
      "\n",
      "[920 rows x 3 columns]\n"
     ]
    }
   ],
   "source": [
    "print(books_reviews[['book name', 'reviewer rating', 'sentiment']])"
   ]
  },
  {
   "cell_type": "code",
   "execution_count": 10,
   "id": "4533341e",
   "metadata": {},
   "outputs": [
    {
     "data": {
      "image/png": "[encoded data removed]",
      "text/plain": [
       "<Figure size 1000x600 with 1 Axes>"
      ]
     },
     "metadata": {},
     "output_type": "display_data"
    },
    {
     "data": {
      "image/png": "[encoded data removed]",
      "text/plain": [
       "<Figure size 800x500 with 1 Axes>"
      ]
     },
     "metadata": {},
     "output_type": "display_data"
    }
   ],
   "source": [
    "import matplotlib.pyplot as plt\n",
    "import seaborn as sns\n",
    "\n",
    "plt.figure(figsize=(10, 6))\n",
    "sns.histplot(books_reviews['reviewer rating'], bins=20, kde=True)\n",
    "plt.title('Distribution of Ratings')\n",
    "plt.show()\n",
    "\n",
    "plt.figure(figsize=(8, 5))\n",
    "sns.countplot(x='sentiment', data=books_reviews)\n",
    "plt.title('Distribution of Sentiments')\n",
    "plt.show()"
   ]
  },
  {
   "cell_type": "code",
   "execution_count": 11,
   "id": "490a0c02",
   "metadata": {},
   "outputs": [
    {
     "name": "stdout",
     "output_type": "stream",
     "text": [
      "Correlation between rating and sentiment_score: 0.2132139150124324\n"
     ]
    }
   ],
   "source": [
    "correlation = books_reviews['reviewer rating'].corr(books_reviews['sentiment_score'])\n",
    "print(f\"Correlation between rating and sentiment_score: {correlation}\")\n"
   ]
  },
  {
   "cell_type": "code",
   "execution_count": 12,
   "id": "a7ff94fc",
   "metadata": {},
   "outputs": [
    {
     "name": "stdout",
     "output_type": "stream",
     "text": [
      "sentiment                                           negative  neutral  \\\n",
      "book name                                                               \n",
      "A Court of Mist and Fury (A Court of Thorns and...         0        0   \n",
      "A Court of Thorns and Roses (A Court of Thorns ...         0        0   \n",
      "A Court of Thorns and Roses Paperback Box Set (...         1        0   \n",
      "A Court of Wings and Ruin (A Court of Thorns an...         0        0   \n",
      "A Little Life                                              0        0   \n",
      "...                                                      ...      ...   \n",
      "Turkey Trouble                                             0        0   \n",
      "Verity                                                     1        0   \n",
      "Where's Bluey?: A Search-and-Find Book                     0        0   \n",
      "Where's Spot?                                              0        1   \n",
      "World of Eric Carle, Around the Farm 30-Button ...         0        0   \n",
      "\n",
      "sentiment                                           positive  \n",
      "book name                                                     \n",
      "A Court of Mist and Fury (A Court of Thorns and...        10  \n",
      "A Court of Thorns and Roses (A Court of Thorns ...        10  \n",
      "A Court of Thorns and Roses Paperback Box Set (...         9  \n",
      "A Court of Wings and Ruin (A Court of Thorns an...        10  \n",
      "A Little Life                                             10  \n",
      "...                                                      ...  \n",
      "Turkey Trouble                                            10  \n",
      "Verity                                                     9  \n",
      "Where's Bluey?: A Search-and-Find Book                    10  \n",
      "Where's Spot?                                              9  \n",
      "World of Eric Carle, Around the Farm 30-Button ...        10  \n",
      "\n",
      "[91 rows x 3 columns]\n"
     ]
    }
   ],
   "source": [
    "# Count the occurrences of each sentiment for each book\n",
    "sentiment_counts = books_reviews.groupby(['book name', 'sentiment']).size().unstack(fill_value=0)\n",
    "\n",
    "print(sentiment_counts)"
   ]
  },
  {
   "cell_type": "code",
   "execution_count": 13,
   "id": "8e9d6b0c",
   "metadata": {},
   "outputs": [],
   "source": [
    "# Sort the DataFrame based on the count of positive ratings in descending order\n",
    "top_positive_books = sentiment_counts.sort_values(by='positive', ascending=False)"
   ]
  },
  {
   "cell_type": "code",
   "execution_count": 14,
   "id": "b390b2a6",
   "metadata": {},
   "outputs": [
    {
     "data": {
      "text/html": [
       "<div>\n",
       "<style scoped>\n",
       "    .dataframe tbody tr th:only-of-type {\n",
       "        vertical-align: middle;\n",
       "    }\n",
       "\n",
       "    .dataframe tbody tr th {\n",
       "        vertical-align: top;\n",
       "    }\n",
       "\n",
       "    .dataframe thead th {\n",
       "        text-align: right;\n",
       "    }\n",
       "</style>\n",
       "<table border=\"1\" class=\"dataframe\">\n",
       "  <thead>\n",
       "    <tr style=\"text-align: right;\">\n",
       "      <th>sentiment</th>\n",
       "      <th>negative</th>\n",
       "      <th>neutral</th>\n",
       "      <th>positive</th>\n",
       "    </tr>\n",
       "    <tr>\n",
       "      <th>book name</th>\n",
       "      <th></th>\n",
       "      <th></th>\n",
       "      <th></th>\n",
       "    </tr>\n",
       "  </thead>\n",
       "  <tbody>\n",
       "    <tr>\n",
       "      <th>The Ballad of Songbirds and Snakes (A Hunger Games Novel) (The Hunger Games)</th>\n",
       "      <td>4</td>\n",
       "      <td>0</td>\n",
       "      <td>16</td>\n",
       "    </tr>\n",
       "    <tr>\n",
       "      <th>A Court of Mist and Fury (A Court of Thorns and Roses, 2)</th>\n",
       "      <td>0</td>\n",
       "      <td>0</td>\n",
       "      <td>10</td>\n",
       "    </tr>\n",
       "    <tr>\n",
       "      <th>I Love You to the Moon and Back</th>\n",
       "      <td>0</td>\n",
       "      <td>0</td>\n",
       "      <td>10</td>\n",
       "    </tr>\n",
       "    <tr>\n",
       "      <th>Interesting Facts For Curious Minds: 1572 Random But Mind-Blowing Facts About History, Science, Pop Culture And Everything In Between</th>\n",
       "      <td>0</td>\n",
       "      <td>0</td>\n",
       "      <td>10</td>\n",
       "    </tr>\n",
       "    <tr>\n",
       "      <th>Israel: A Simple Guide to the Most Misunderstood Country on Earth</th>\n",
       "      <td>0</td>\n",
       "      <td>0</td>\n",
       "      <td>10</td>\n",
       "    </tr>\n",
       "    <tr>\n",
       "      <th>Just Because</th>\n",
       "      <td>0</td>\n",
       "      <td>0</td>\n",
       "      <td>10</td>\n",
       "    </tr>\n",
       "    <tr>\n",
       "      <th>Lessons in Chemistry: A Novel</th>\n",
       "      <td>0</td>\n",
       "      <td>0</td>\n",
       "      <td>10</td>\n",
       "    </tr>\n",
       "    <tr>\n",
       "      <th>A Court of Thorns and Roses (A Court of Thorns and Roses, 1)</th>\n",
       "      <td>0</td>\n",
       "      <td>0</td>\n",
       "      <td>10</td>\n",
       "    </tr>\n",
       "    <tr>\n",
       "      <th>Moo, Baa, La La La!</th>\n",
       "      <td>0</td>\n",
       "      <td>0</td>\n",
       "      <td>10</td>\n",
       "    </tr>\n",
       "    <tr>\n",
       "      <th>Outlive: The Science and Art of Longevity</th>\n",
       "      <td>0</td>\n",
       "      <td>0</td>\n",
       "      <td>10</td>\n",
       "    </tr>\n",
       "  </tbody>\n",
       "</table>\n",
       "</div>"
      ],
      "text/plain": [
       "sentiment                                           negative  neutral  \\\n",
       "book name                                                               \n",
       "The Ballad of Songbirds and Snakes (A Hunger Ga...         4        0   \n",
       "A Court of Mist and Fury (A Court of Thorns and...         0        0   \n",
       "I Love You to the Moon and Back                            0        0   \n",
       "Interesting Facts For Curious Minds: 1572 Rando...         0        0   \n",
       "Israel: A Simple Guide to the Most Misunderstoo...         0        0   \n",
       "Just Because                                               0        0   \n",
       "Lessons in Chemistry: A Novel                              0        0   \n",
       "A Court of Thorns and Roses (A Court of Thorns ...         0        0   \n",
       "Moo, Baa, La La La!                                        0        0   \n",
       "Outlive: The Science and Art of Longevity                  0        0   \n",
       "\n",
       "sentiment                                           positive  \n",
       "book name                                                     \n",
       "The Ballad of Songbirds and Snakes (A Hunger Ga...        16  \n",
       "A Court of Mist and Fury (A Court of Thorns and...        10  \n",
       "I Love You to the Moon and Back                           10  \n",
       "Interesting Facts For Curious Minds: 1572 Rando...        10  \n",
       "Israel: A Simple Guide to the Most Misunderstoo...        10  \n",
       "Just Because                                              10  \n",
       "Lessons in Chemistry: A Novel                             10  \n",
       "A Court of Thorns and Roses (A Court of Thorns ...        10  \n",
       "Moo, Baa, La La La!                                       10  \n",
       "Outlive: The Science and Art of Longevity                 10  "
      ]
     },
     "execution_count": 14,
     "metadata": {},
     "output_type": "execute_result"
    }
   ],
   "source": [
    "top_positive_books.head(10)"
   ]
  },
  {
   "cell_type": "code",
   "execution_count": null,
   "id": "dc2e6f5b",
   "metadata": {},
   "outputs": [],
   "source": []
  }
 ],
 "metadata": {
  "kernelspec": {
   "display_name": "Python 3 (ipykernel)",
   "language": "python",
   "name": "python3"
  },
  "language_info": {
   "codemirror_mode": {
    "name": "ipython",
    "version": 3
   },
   "file_extension": ".py",
   "mimetype": "text/x-python",
   "name": "python",
   "nbconvert_exporter": "python",
   "pygments_lexer": "ipython3",
   "version": "3.9.13"
  }
 },
 "nbformat": 4,
 "nbformat_minor": 5
}
