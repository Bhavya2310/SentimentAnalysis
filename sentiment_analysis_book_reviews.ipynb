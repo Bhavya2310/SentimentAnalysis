{
 "cells": [
  {
   "cell_type": "markdown",
   "id": "6e6b4851",
   "metadata": {},
   "source": [
    "# Sentiment analysis on Book reviews"
   ]
  },
  {
   "cell_type": "markdown",
   "id": "79e2f8bd",
   "metadata": {},
   "source": [
    "Dataset is collected from Kaggle https://www.kaggle.com/datasets/anshtanwar/top-200-trending-books-with-reviews/data"
   ]
  },
  {
   "cell_type": "code",
   "execution_count": 60,
   "id": "b40acc01",
   "metadata": {},
   "outputs": [],
   "source": [
    "import pandas as pd\n",
    "import numpy as np"
   ]
  },
  {
   "cell_type": "code",
   "execution_count": 61,
   "id": "d9ecaccc",
   "metadata": {},
   "outputs": [],
   "source": [
    "#reading the csv files\n",
    "books = pd.read_csv(\"Top-100 Trending Books.csv\")\n",
    "books_reviews = pd.read_csv(\"customer reviews.csv\")"
   ]
  },
  {
   "cell_type": "code",
   "execution_count": 62,
   "id": "ba8d20ad",
   "metadata": {},
   "outputs": [
    {
     "name": "stdout",
     "output_type": "stream",
     "text": [
      "<class 'pandas.core.frame.DataFrame'>\n",
      "RangeIndex: 100 entries, 0 to 99\n",
      "Data columns (total 8 columns):\n",
      " #   Column               Non-Null Count  Dtype  \n",
      "---  ------               --------------  -----  \n",
      " 0   Rank                 100 non-null    int64  \n",
      " 1   book title           100 non-null    object \n",
      " 2   book price           100 non-null    float64\n",
      " 3   rating               97 non-null     float64\n",
      " 4   author               100 non-null    object \n",
      " 5   year of publication  100 non-null    int64  \n",
      " 6   genre                100 non-null    object \n",
      " 7   url                  100 non-null    object \n",
      "dtypes: float64(2), int64(2), object(4)\n",
      "memory usage: 6.4+ KB\n"
     ]
    }
   ],
   "source": [
    "books.info()"
   ]
  },
  {
   "cell_type": "code",
   "execution_count": 63,
   "id": "67b5653b",
   "metadata": {},
   "outputs": [
    {
     "name": "stdout",
     "output_type": "stream",
     "text": [
      "<class 'pandas.core.frame.DataFrame'>\n",
      "RangeIndex: 920 entries, 0 to 919\n",
      "Data columns (total 10 columns):\n",
      " #   Column              Non-Null Count  Dtype \n",
      "---  ------              --------------  ----- \n",
      " 0   Sno                 920 non-null    int64 \n",
      " 1   book name           920 non-null    object\n",
      " 2   review title        920 non-null    object\n",
      " 3   reviewer            920 non-null    object\n",
      " 4   reviewer rating     920 non-null    int64 \n",
      " 5   review description  920 non-null    object\n",
      " 6   is_verified         920 non-null    bool  \n",
      " 7   date                920 non-null    object\n",
      " 8   timestamp           920 non-null    object\n",
      " 9   ASIN                920 non-null    object\n",
      "dtypes: bool(1), int64(2), object(7)\n",
      "memory usage: 65.7+ KB\n"
     ]
    }
   ],
   "source": [
    "books_reviews.info()"
   ]
  },
  {
   "cell_type": "code",
   "execution_count": 64,
   "id": "138e0857",
   "metadata": {},
   "outputs": [
    {
     "name": "stdout",
     "output_type": "stream",
     "text": [
      "Sno                   0\n",
      "book name             0\n",
      "review title          0\n",
      "reviewer              0\n",
      "reviewer rating       0\n",
      "review description    0\n",
      "is_verified           0\n",
      "date                  0\n",
      "timestamp             0\n",
      "ASIN                  0\n",
      "dtype: int64\n"
     ]
    }
   ],
   "source": [
    "#checking for null values in the dataframe\n",
    "missing_values = books_reviews.isnull().sum()\n",
    "print(missing_values)"
   ]
  },
  {
   "cell_type": "code",
   "execution_count": 65,
   "id": "3e0c311b",
   "metadata": {},
   "outputs": [],
   "source": [
    "#import textblob library for sentiment analysis\n",
    "from textblob import TextBlob"
   ]
  },
  {
   "cell_type": "code",
   "execution_count": 66,
   "id": "ed463616",
   "metadata": {},
   "outputs": [
    {
     "name": "stdout",
     "output_type": "stream",
     "text": [
      "                                         text_combined  sentiment_score  \\\n",
      "0    Unbelievably impressive. Her torn life on pape...         0.220704   \n",
      "1    What a heartbreaking story \"There have been so...        -0.178852   \n",
      "2    Britney you are so invincible! You are an insp...         0.037864   \n",
      "3    Fast Read, Sad Story I have been a fan of Brit...         0.067659   \n",
      "4    Buy it, it’s worth the read! Whether or not yo...         0.160561   \n",
      "..                                                 ...              ...   \n",
      "915  The best child/grandmother book ever written T...         0.462245   \n",
      "916  Great book We get this book for all our grandc...         0.380000   \n",
      "917  Fun book, makes you laugh I saw a grandma read...         0.375000   \n",
      "918  Cutest beck ever!! I have ordered this book ov...         0.340000   \n",
      "919  Awesome Book This book was hysterical! My daug...         0.290625   \n",
      "\n",
      "    sentiment  \n",
      "0    positive  \n",
      "1    negative  \n",
      "2    positive  \n",
      "3    positive  \n",
      "4    positive  \n",
      "..        ...  \n",
      "915  positive  \n",
      "916  positive  \n",
      "917  positive  \n",
      "918  positive  \n",
      "919  positive  \n",
      "\n",
      "[920 rows x 3 columns]\n"
     ]
    }
   ],
   "source": [
    "#combine the review title and description for analyzing\n",
    "books_reviews['text_combined'] = books_reviews['review title'] + ' ' + books_reviews['review description']\n",
    "\n",
    "def analyze_sentiment(text):\n",
    "    blob = TextBlob(text)\n",
    "    return blob.sentiment.polarity #gives value between -1 to 1\n",
    "\n",
    "books_reviews['sentiment_score'] = books_reviews['text_combined'].apply(analyze_sentiment)\n",
    "\n",
    "#assigning labels based on sentiment score\n",
    "books_reviews['sentiment'] = books_reviews['sentiment_score'].apply(lambda score: 'positive' if score > 0 else 'negative' if score < 0 else 'neutral')\n",
    "\n",
    "print(books_reviews[['text_combined', 'sentiment_score', 'sentiment']])"
   ]
  },
  {
   "cell_type": "code",
   "execution_count": 67,
   "id": "255b4ba7",
   "metadata": {},
   "outputs": [],
   "source": [
    "#renaming the title for merging the data frames\n",
    "books.rename(columns={'book title': 'book name'}, inplace=True)"
   ]
  },
  {
   "cell_type": "code",
   "execution_count": 68,
   "id": "91fa4529",
   "metadata": {},
   "outputs": [
    {
     "name": "stdout",
     "output_type": "stream",
     "text": [
      "                        book name  rating sentiment\n",
      "0    Iron Flame (The Empyrean, 2)     4.1       NaN\n",
      "1                 The Woman in Me     4.5  positive\n",
      "2                 The Woman in Me     4.5  negative\n",
      "3                 The Woman in Me     4.5  positive\n",
      "4                 The Woman in Me     4.5  positive\n",
      "..                            ...     ...       ...\n",
      "898              The Wonky Donkey     4.8  positive\n",
      "899              The Wonky Donkey     4.8  positive\n",
      "900              The Wonky Donkey     4.8  positive\n",
      "901              The Wonky Donkey     4.8  positive\n",
      "902              The Wonky Donkey     4.8  positive\n",
      "\n",
      "[903 rows x 3 columns]\n"
     ]
    }
   ],
   "source": [
    "merged_df = pd.merge(books, books_reviews[['book name', 'sentiment','sentiment_score']], on='book name', how='left')\n",
    "\n",
    "print(merged_df[['book name', 'rating', 'sentiment']])"
   ]
  },
  {
   "cell_type": "code",
   "execution_count": 69,
   "id": "724c953d",
   "metadata": {},
   "outputs": [
    {
     "data": {
      "image/png": "[encoded data removed]",
      "text/plain": [
       "<Figure size 1000x600 with 1 Axes>"
      ]
     },
     "metadata": {},
     "output_type": "display_data"
    },
    {
     "data": {
      "image/png": "[encoded data removed]",
      "text/plain": [
       "<Figure size 800x500 with 1 Axes>"
      ]
     },
     "metadata": {},
     "output_type": "display_data"
    }
   ],
   "source": [
    "import matplotlib.pyplot as plt\n",
    "import seaborn as sns\n",
    "\n",
    "plt.figure(figsize=(10, 6))\n",
    "sns.histplot(merged_df['rating'], bins=20, kde=True)\n",
    "plt.title('Distribution of Ratings')\n",
    "plt.show()\n",
    "\n",
    "plt.figure(figsize=(8, 5))\n",
    "sns.countplot(x='sentiment', data=merged_df)\n",
    "plt.title('Distribution of Sentiments')\n",
    "plt.show()\n"
   ]
  },
  {
   "cell_type": "code",
   "execution_count": 70,
   "id": "0cfe31a0",
   "metadata": {},
   "outputs": [
    {
     "name": "stdout",
     "output_type": "stream",
     "text": [
      "sentiment                                           negative  neutral  \\\n",
      "book name                                                               \n",
      "A Court of Mist and Fury (A Court of Thorns and...         0        0   \n",
      "A Court of Thorns and Roses (A Court of Thorns ...         0        0   \n",
      "A Court of Thorns and Roses Paperback Box Set (...         1        0   \n",
      "A Court of Wings and Ruin (A Court of Thorns an...         0        0   \n",
      "A Little Life                                              0        0   \n",
      "...                                                      ...      ...   \n",
      "Turkey Trouble                                             0        0   \n",
      "Verity                                                     1        0   \n",
      "Where's Bluey?: A Search-and-Find Book                     0        0   \n",
      "Where's Spot?                                              0        1   \n",
      "World of Eric Carle, Around the Farm 30-Button ...         0        0   \n",
      "\n",
      "sentiment                                           positive  \n",
      "book name                                                     \n",
      "A Court of Mist and Fury (A Court of Thorns and...        10  \n",
      "A Court of Thorns and Roses (A Court of Thorns ...        10  \n",
      "A Court of Thorns and Roses Paperback Box Set (...         9  \n",
      "A Court of Wings and Ruin (A Court of Thorns an...        10  \n",
      "A Little Life                                             10  \n",
      "...                                                      ...  \n",
      "Turkey Trouble                                            10  \n",
      "Verity                                                     9  \n",
      "Where's Bluey?: A Search-and-Find Book                    10  \n",
      "Where's Spot?                                              9  \n",
      "World of Eric Carle, Around the Farm 30-Button ...        10  \n",
      "\n",
      "[86 rows x 3 columns]\n"
     ]
    }
   ],
   "source": [
    "# Count the occurrences of each sentiment for each book\n",
    "sentiment_counts = merged_df.groupby(['book name', 'sentiment']).size().unstack(fill_value=0)\n",
    "\n",
    "print(sentiment_counts)"
   ]
  },
  {
   "cell_type": "code",
   "execution_count": 71,
   "id": "45f0663c",
   "metadata": {},
   "outputs": [],
   "source": [
    "# Sort the DataFrame based on the count of positive ratings in descending order\n",
    "top_positive_books = sentiment_counts.sort_values(by='positive', ascending=False)"
   ]
  },
  {
   "cell_type": "code",
   "execution_count": 72,
   "id": "e7b65ed1",
   "metadata": {},
   "outputs": [
    {
     "data": {
      "text/html": [
       "<div>\n",
       "<style scoped>\n",
       "    .dataframe tbody tr th:only-of-type {\n",
       "        vertical-align: middle;\n",
       "    }\n",
       "\n",
       "    .dataframe tbody tr th {\n",
       "        vertical-align: top;\n",
       "    }\n",
       "\n",
       "    .dataframe thead th {\n",
       "        text-align: right;\n",
       "    }\n",
       "</style>\n",
       "<table border=\"1\" class=\"dataframe\">\n",
       "  <thead>\n",
       "    <tr style=\"text-align: right;\">\n",
       "      <th>sentiment</th>\n",
       "      <th>negative</th>\n",
       "      <th>neutral</th>\n",
       "      <th>positive</th>\n",
       "    </tr>\n",
       "    <tr>\n",
       "      <th>book name</th>\n",
       "      <th></th>\n",
       "      <th></th>\n",
       "      <th></th>\n",
       "    </tr>\n",
       "  </thead>\n",
       "  <tbody>\n",
       "    <tr>\n",
       "      <th>The Ballad of Songbirds and Snakes (A Hunger Games Novel) (The Hunger Games)</th>\n",
       "      <td>8</td>\n",
       "      <td>0</td>\n",
       "      <td>32</td>\n",
       "    </tr>\n",
       "    <tr>\n",
       "      <th>A Court of Mist and Fury (A Court of Thorns and Roses, 2)</th>\n",
       "      <td>0</td>\n",
       "      <td>0</td>\n",
       "      <td>10</td>\n",
       "    </tr>\n",
       "    <tr>\n",
       "      <th>I Love You Like No Otter: A Funny and Sweet Animal Board Book for Babies and Toddlers this Christmas (Punderland)</th>\n",
       "      <td>0</td>\n",
       "      <td>0</td>\n",
       "      <td>10</td>\n",
       "    </tr>\n",
       "    <tr>\n",
       "      <th>Israel: A Simple Guide to the Most Misunderstood Country on Earth</th>\n",
       "      <td>0</td>\n",
       "      <td>0</td>\n",
       "      <td>10</td>\n",
       "    </tr>\n",
       "    <tr>\n",
       "      <th>Just Because</th>\n",
       "      <td>0</td>\n",
       "      <td>0</td>\n",
       "      <td>10</td>\n",
       "    </tr>\n",
       "    <tr>\n",
       "      <th>Lessons in Chemistry: A Novel</th>\n",
       "      <td>0</td>\n",
       "      <td>0</td>\n",
       "      <td>10</td>\n",
       "    </tr>\n",
       "    <tr>\n",
       "      <th>A Court of Thorns and Roses (A Court of Thorns and Roses, 1)</th>\n",
       "      <td>0</td>\n",
       "      <td>0</td>\n",
       "      <td>10</td>\n",
       "    </tr>\n",
       "    <tr>\n",
       "      <th>Outlive: The Science and Art of Longevity</th>\n",
       "      <td>0</td>\n",
       "      <td>0</td>\n",
       "      <td>10</td>\n",
       "    </tr>\n",
       "    <tr>\n",
       "      <th>Paw Patrol Phonics: 12 Books in 1</th>\n",
       "      <td>0</td>\n",
       "      <td>0</td>\n",
       "      <td>10</td>\n",
       "    </tr>\n",
       "    <tr>\n",
       "      <th>Pookie's Thanksgiving (Little Pookie)</th>\n",
       "      <td>0</td>\n",
       "      <td>0</td>\n",
       "      <td>10</td>\n",
       "    </tr>\n",
       "  </tbody>\n",
       "</table>\n",
       "</div>"
      ],
      "text/plain": [
       "sentiment                                           negative  neutral  \\\n",
       "book name                                                               \n",
       "The Ballad of Songbirds and Snakes (A Hunger Ga...         8        0   \n",
       "A Court of Mist and Fury (A Court of Thorns and...         0        0   \n",
       "I Love You Like No Otter: A Funny and Sweet Ani...         0        0   \n",
       "Israel: A Simple Guide to the Most Misunderstoo...         0        0   \n",
       "Just Because                                               0        0   \n",
       "Lessons in Chemistry: A Novel                              0        0   \n",
       "A Court of Thorns and Roses (A Court of Thorns ...         0        0   \n",
       "Outlive: The Science and Art of Longevity                  0        0   \n",
       "Paw Patrol Phonics: 12 Books in 1                          0        0   \n",
       "Pookie's Thanksgiving (Little Pookie)                      0        0   \n",
       "\n",
       "sentiment                                           positive  \n",
       "book name                                                     \n",
       "The Ballad of Songbirds and Snakes (A Hunger Ga...        32  \n",
       "A Court of Mist and Fury (A Court of Thorns and...        10  \n",
       "I Love You Like No Otter: A Funny and Sweet Ani...        10  \n",
       "Israel: A Simple Guide to the Most Misunderstoo...        10  \n",
       "Just Because                                              10  \n",
       "Lessons in Chemistry: A Novel                             10  \n",
       "A Court of Thorns and Roses (A Court of Thorns ...        10  \n",
       "Outlive: The Science and Art of Longevity                 10  \n",
       "Paw Patrol Phonics: 12 Books in 1                         10  \n",
       "Pookie's Thanksgiving (Little Pookie)                     10  "
      ]
     },
     "execution_count": 72,
     "metadata": {},
     "output_type": "execute_result"
    }
   ],
   "source": [
    "top_positive_books.head(10)"
   ]
  },
  {
   "cell_type": "code",
   "execution_count": null,
   "id": "d3b928c9",
   "metadata": {},
   "outputs": [],
   "source": []
  }
 ],
 "metadata": {
  "kernelspec": {
   "display_name": "Python 3 (ipykernel)",
   "language": "python",
   "name": "python3"
  },
  "language_info": {
   "codemirror_mode": {
    "name": "ipython",
    "version": 3
   },
   "file_extension": ".py",
   "mimetype": "text/x-python",
   "name": "python",
   "nbconvert_exporter": "python",
   "pygments_lexer": "ipython3",
   "version": "3.9.13"
  }
 },
 "nbformat": 4,
 "nbformat_minor": 5
}
